{
 "cells": [
  {
   "cell_type": "markdown",
   "id": "f8e0f4c8",
   "metadata": {},
   "source": [
    "### Reading Data"
   ]
  },
  {
   "cell_type": "code",
   "execution_count": 13,
   "id": "22bd7d1d",
   "metadata": {},
   "outputs": [],
   "source": [
    "import pandas as pd"
   ]
  },
  {
   "cell_type": "code",
   "execution_count": 14,
   "id": "6419f7d9",
   "metadata": {},
   "outputs": [
    {
     "name": "stdout",
     "output_type": "stream",
     "text": [
      "Dataset URL: https://www.kaggle.com/datasets/fatihilhan/global-superstore-dataset\n"
     ]
    }
   ],
   "source": [
    "import kaggle\n",
    "kaggle.api.authenticate()\n",
    "kaggle.api.dataset_download_files('fatihilhan/global-superstore-dataset', path='./data-source', unzip=True)"
   ]
  },
  {
   "cell_type": "code",
   "execution_count": 15,
   "id": "886ec98d",
   "metadata": {},
   "outputs": [],
   "source": [
    "source_path = './data-source/'\n",
    "data_source_name = 'superstore.csv'\n",
    "df_superstore = pd.read_csv(source_path+data_source_name)"
   ]
  },
  {
   "cell_type": "markdown",
   "id": "336183a2",
   "metadata": {},
   "source": [
    "### Fixing columns"
   ]
  },
  {
   "cell_type": "code",
   "execution_count": 16,
   "id": "e7cf1877",
   "metadata": {},
   "outputs": [
    {
     "data": {
      "text/plain": [
       "Index(['Category', 'City', 'Country', 'Customer.ID', 'Customer.Name',\n",
       "       'Discount', 'Market', '记录数', 'Order.Date', 'Order.ID', 'Order.Priority',\n",
       "       'Product.ID', 'Product.Name', 'Profit', 'Quantity', 'Region', 'Row.ID',\n",
       "       'Sales', 'Segment', 'Ship.Date', 'Ship.Mode', 'Shipping.Cost', 'State',\n",
       "       'Sub.Category', 'Year', 'Market2', 'weeknum'],\n",
       "      dtype='object')"
      ]
     },
     "execution_count": 16,
     "metadata": {},
     "output_type": "execute_result"
    }
   ],
   "source": [
    "df_superstore.columns"
   ]
  },
  {
   "cell_type": "code",
   "execution_count": 17,
   "id": "093ce868",
   "metadata": {},
   "outputs": [],
   "source": [
    "df_superstore = df_superstore.rename(columns={\n",
    "    'Customer.ID': 'Customer_ID',\n",
    "    '记录数': 'Record_Count',\n",
    "    'Customer.Name': 'Customer_Name',\n",
    "    'Order.Date': 'Order_Date',\n",
    "    'Order.ID': 'Order_ID',\n",
    "    'Order.Priority': 'Order_Priority',\n",
    "    'Product.ID': 'Product_ID',\n",
    "    'Product.Name': 'Product_Name',\n",
    "    'Row.ID': 'Row_ID',\n",
    "    'Ship.Date': 'Ship_Date',\n",
    "    'Ship.Mode': 'Ship_Mode',\n",
    "    'Shipping.Cost': 'Shipping_Cost',\n",
    "    'Sub.Category': 'Sub_Category',\n",
    "    'Shipping.Cost': 'Shipping_Cost',\n",
    "    'weeknum': 'Weeknum'\n",
    "    })"
   ]
  },
  {
   "cell_type": "code",
   "execution_count": 18,
   "id": "d5cebe4a",
   "metadata": {},
   "outputs": [],
   "source": [
    "df_superstore.to_csv('./data-source/superstore_column_fixed.csv', index=False, encoding='utf-8')"
   ]
  }
 ],
 "metadata": {
  "kernelspec": {
   "display_name": "venv",
   "language": "python",
   "name": "python3"
  },
  "language_info": {
   "codemirror_mode": {
    "name": "ipython",
    "version": 3
   },
   "file_extension": ".py",
   "mimetype": "text/x-python",
   "name": "python",
   "nbconvert_exporter": "python",
   "pygments_lexer": "ipython3",
   "version": "3.12.3"
  }
 },
 "nbformat": 4,
 "nbformat_minor": 5
}
